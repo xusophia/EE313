{
 "cells": [
  {
   "cell_type": "code",
   "execution_count": 3,
   "metadata": {},
   "outputs": [
    {
     "name": "stdout",
     "output_type": "stream",
     "text": [
      "5.0\n",
      "45.0\n"
     ]
    }
   ],
   "source": [
    "\"\"\"\n",
    "Context: sometimes in EE313, we get homework assignments asking to plot in Python. \n",
    "I have relatively little experience in Python for signal processing, but it's super \n",
    "interesting and I want to make sure the things I'm learning as I go (or googling, really)\n",
    "I remember!\n",
    "\"\"\"\n",
    "import numpy as np\n",
    "\"\"\"\n",
    "NUMPY things:\n",
    "\"\"\"\n",
    "t = np.linspace(-100, 100, 1000) # returns an array of values between -100 to 100, with 1000 values in between\n",
    "\n",
    "t = np.absolute(3+4j) # returns the absolute value of any number, even complex\n",
    "print(t)\n",
    "\n",
    "t = np.angle(1+1j, deg = True)\n",
    "print(t)"
   ]
  },
  {
   "cell_type": "code",
   "execution_count": null,
   "metadata": {},
   "outputs": [],
   "source": []
  }
 ],
 "metadata": {
  "kernelspec": {
   "display_name": "Python 3",
   "language": "python",
   "name": "python3"
  },
  "language_info": {
   "codemirror_mode": {
    "name": "ipython",
    "version": 3
   },
   "file_extension": ".py",
   "mimetype": "text/x-python",
   "name": "python",
   "nbconvert_exporter": "python",
   "pygments_lexer": "ipython3",
   "version": "3.7.3"
  }
 },
 "nbformat": 4,
 "nbformat_minor": 2
}
